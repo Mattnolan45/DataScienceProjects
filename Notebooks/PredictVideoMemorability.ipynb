{
  "nbformat": 4,
  "nbformat_minor": 0,
  "metadata": {
    "colab": {
      "name": "Matthew_Nolan_16425716.ipynb",
      "provenance": [],
      "collapsed_sections": [],
      "toc_visible": true
    },
    "kernelspec": {
      "name": "python3",
      "display_name": "Python 3"
    }
  },
  "cells": [
    {
      "cell_type": "markdown",
      "metadata": {
        "id": "Sj5Tpv_n0CKH"
      },
      "source": [
        "# Initial Imports"
      ]
    },
    {
      "cell_type": "code",
      "metadata": {
        "id": "gE7nKeA7QaVa",
        "colab": {
          "base_uri": "https://localhost:8080/"
        },
        "outputId": "55e85cf0-1527-4e8c-c599-4eef4e55e842"
      },
      "source": [
        "\n",
        "from google.colab import drive\n",
        "import os\n",
        "import pandas as pd\n",
        "import numpy as np\n",
        "\n",
        "drive.mount('/content/drive/')\n",
        "os.chdir('/content/drive/My Drive/CA684_Assignment/')\n",
        "\n"
      ],
      "execution_count": null,
      "outputs": [
        {
          "output_type": "stream",
          "text": [
            "Mounted at /content/drive/\n"
          ],
          "name": "stdout"
        }
      ]
    },
    {
      "cell_type": "markdown",
      "metadata": {
        "id": "3e8e2-21O-u2"
      },
      "source": [
        "# Defining Functions"
      ]
    },
    {
      "cell_type": "code",
      "metadata": {
        "id": "GDuWkk19e52Q"
      },
      "source": [
        "# define all the functions in this section \n",
        "\n",
        "def vname2ID(vnames):\n",
        "    \"\"\"Parse video digital id from its name\n",
        "    vnames: a list contains file names\"\"\"\n",
        "    vid = [ os.path.splitext(vn)[0][5:] for vn in vnames]\n",
        "    return vid\n",
        "\n",
        "def read_C3D(fname): # can be used to read in the lbp files as well\n",
        "    \"\"\"Scan vectors from file\"\"\"\n",
        "    with open(fname) as f:\n",
        "        for line in f:\n",
        "            C3D =[float(item) for item in line.split()] # convert to float type, using default separator\n",
        "    return C3D\n",
        "\n",
        "def read_HMP(fname):\n",
        "    \"\"\"Scan HMP(Histogram of Motion Patterns) features from file\"\"\"\n",
        "    with open(fname) as f:\n",
        "        for line in f:\n",
        "            pairs=line.split()\n",
        "            HMP_temp = { int(p.split(':')[0]) : float(p.split(':')[1]) for p in pairs}\n",
        "    # there are 6075 bins, fill zeros\n",
        "    HMP = np.zeros(6075)\n",
        "    for idx in HMP_temp.keys():\n",
        "        HMP[idx-1] = HMP_temp[idx]            \n",
        "    return HMP\n",
        "\n",
        "def read_ColorHistogram(fname):\n",
        "    \"\"\"Scan Color Histogram from file\n",
        "    Input file contains RGB histogram,\n",
        "    Return a matrix of (3,256)\"\"\"\n",
        "    RGB_Hist = np.zeros((3,256))\n",
        "    with open(fname) as f:\n",
        "        i_l = 0 # line index\n",
        "        for line in f:\n",
        "            pairs = line.split()\n",
        "            hist_dict = {int(p.split(':')[0]):float(p.split(':')[1]) for p in pairs}\n",
        "            for idx in hist_dict.keys():\n",
        "                RGB_Hist[i_l,idx] = hist_dict[idx]\n",
        "            i_l += 1\n",
        "    return RGB_Hist\n",
        "\n",
        "def read_caps(fname):\n",
        "    \"\"\"Load the captions into a dataframe\"\"\"\n",
        "    vn = []\n",
        "    cap = []\n",
        "    df = pd.DataFrame();\n",
        "    with open(fname) as f:\n",
        "        for line in f:\n",
        "            pairs = line.split()\n",
        "            vn.append(pairs[0])\n",
        "            cap.append(pairs[1])\n",
        "        df['video']=vn\n",
        "        df['caption']=cap\n",
        "    return df\n",
        "\n",
        "def Get_score(Y_pred,Y_true):\n",
        "    '''Calculate the Spearmann\"s correlation coefficient'''\n",
        "    Y_pred = np.squeeze(Y_pred)\n",
        "    Y_true = np.squeeze(Y_true)\n",
        "    if Y_pred.shape != Y_true.shape:\n",
        "        print('Input shapes don\\'t match!')\n",
        "    else:\n",
        "        if len(Y_pred.shape) == 1:\n",
        "            Res = pd.DataFrame({'Y_true':Y_true,'Y_pred':Y_pred})\n",
        "            score_mat = Res[['Y_true','Y_pred']].corr(method='spearman',min_periods=1)\n",
        "            print('The Spearman\\'s correlation coefficient is: %.3f' % score_mat.iloc[1][0])\n",
        "        else:\n",
        "            for ii in range(Y_pred.shape[1]):\n",
        "                Get_score(Y_pred[:,ii],Y_true[:,ii])\n"
      ],
      "execution_count": null,
      "outputs": []
    },
    {
      "cell_type": "markdown",
      "metadata": {
        "id": "xZLpWPz3DUOt"
      },
      "source": [
        "# Read in Files"
      ]
    },
    {
      "cell_type": "markdown",
      "metadata": {
        "id": "BWr6BP_myd-w"
      },
      "source": [
        "## Ground Truth"
      ]
    },
    {
      "cell_type": "code",
      "metadata": {
        "id": "-L7sPi67oAb_",
        "colab": {
          "base_uri": "https://localhost:8080/",
          "height": 204
        },
        "outputId": "6e16ead5-bacb-4f4b-c99b-db95b5a4315f"
      },
      "source": [
        "groundTruthDF = pd.read_csv('/content/drive/My Drive/CA684_Assignment/Dev-set/Ground-truth/ground-truth.csv')\n",
        "groundTruthDF['video'] =  groundTruthDF['video'].apply(lambda x: x.split('.')[0]) # remove the file extension from filename\n",
        "groundTruthDF = groundTruthDF.drop(columns=['nb_short-term_annotations','nb_long-term_annotations']) # drop the unnecessary columnns\n",
        "groundTruthDF.head()\n"
      ],
      "execution_count": null,
      "outputs": [
        {
          "output_type": "execute_result",
          "data": {
            "text/html": [
              "<div>\n",
              "<style scoped>\n",
              "    .dataframe tbody tr th:only-of-type {\n",
              "        vertical-align: middle;\n",
              "    }\n",
              "\n",
              "    .dataframe tbody tr th {\n",
              "        vertical-align: top;\n",
              "    }\n",
              "\n",
              "    .dataframe thead th {\n",
              "        text-align: right;\n",
              "    }\n",
              "</style>\n",
              "<table border=\"1\" class=\"dataframe\">\n",
              "  <thead>\n",
              "    <tr style=\"text-align: right;\">\n",
              "      <th></th>\n",
              "      <th>video</th>\n",
              "      <th>short-term_memorability</th>\n",
              "      <th>long-term_memorability</th>\n",
              "    </tr>\n",
              "  </thead>\n",
              "  <tbody>\n",
              "    <tr>\n",
              "      <th>0</th>\n",
              "      <td>video3</td>\n",
              "      <td>0.924</td>\n",
              "      <td>0.846</td>\n",
              "    </tr>\n",
              "    <tr>\n",
              "      <th>1</th>\n",
              "      <td>video4</td>\n",
              "      <td>0.923</td>\n",
              "      <td>0.667</td>\n",
              "    </tr>\n",
              "    <tr>\n",
              "      <th>2</th>\n",
              "      <td>video6</td>\n",
              "      <td>0.863</td>\n",
              "      <td>0.700</td>\n",
              "    </tr>\n",
              "    <tr>\n",
              "      <th>3</th>\n",
              "      <td>video8</td>\n",
              "      <td>0.922</td>\n",
              "      <td>0.818</td>\n",
              "    </tr>\n",
              "    <tr>\n",
              "      <th>4</th>\n",
              "      <td>video10</td>\n",
              "      <td>0.950</td>\n",
              "      <td>0.900</td>\n",
              "    </tr>\n",
              "  </tbody>\n",
              "</table>\n",
              "</div>"
            ],
            "text/plain": [
              "     video  short-term_memorability  long-term_memorability\n",
              "0   video3                    0.924                   0.846\n",
              "1   video4                    0.923                   0.667\n",
              "2   video6                    0.863                   0.700\n",
              "3   video8                    0.922                   0.818\n",
              "4  video10                    0.950                   0.900"
            ]
          },
          "metadata": {
            "tags": []
          },
          "execution_count": 42
        }
      ]
    },
    {
      "cell_type": "markdown",
      "metadata": {
        "id": "AbdjnGrCyjEr"
      },
      "source": [
        "## C3D & HMP"
      ]
    },
    {
      "cell_type": "code",
      "metadata": {
        "id": "EEXGeJCOqWYJ",
        "colab": {
          "base_uri": "https://localhost:8080/",
          "height": 204
        },
        "outputId": "3fa334d4-c397-4762-a9cf-251246f564d5"
      },
      "source": [
        "# read in C3D \n",
        "C3D_List = {}\n",
        "for filename in sorted(os.listdir('/content/drive/My Drive/CA684_Assignment/Dev-set/C3D')):\n",
        "    C3D_List[filename] = read_C3D('/content/drive/My Drive/CA684_Assignment/Dev-set/C3D/'+ filename) # read in C3D\n",
        "\n",
        "C3D_FeatureVector = pd.DataFrame(C3D_List.items(),columns=['video', 'C3DValues'] )\n",
        "C3D_FeatureVector.head()\n",
        "\n",
        "\n",
        "#read in HMP\n",
        "HMP_List = {} \n",
        "for filename in sorted(os.listdir('/content/drive/My Drive/CA684_Assignment/Dev-set/HMP')):\n",
        "    HMP_List[filename] = read_HMP('/content/drive/My Drive/CA684_Assignment/Dev-set/HMP/'+ filename) # read in HMP\n",
        "    \n",
        "HMP_FeatureVector = pd.DataFrame(HMP_List.items(),columns=['video', 'HMPValues'] ) \n",
        "HMP_FeatureVector.head()\n",
        "\n"
      ],
      "execution_count": null,
      "outputs": [
        {
          "output_type": "execute_result",
          "data": {
            "text/html": [
              "<div>\n",
              "<style scoped>\n",
              "    .dataframe tbody tr th:only-of-type {\n",
              "        vertical-align: middle;\n",
              "    }\n",
              "\n",
              "    .dataframe tbody tr th {\n",
              "        vertical-align: top;\n",
              "    }\n",
              "\n",
              "    .dataframe thead th {\n",
              "        text-align: right;\n",
              "    }\n",
              "</style>\n",
              "<table border=\"1\" class=\"dataframe\">\n",
              "  <thead>\n",
              "    <tr style=\"text-align: right;\">\n",
              "      <th></th>\n",
              "      <th>video</th>\n",
              "      <th>HMPValues</th>\n",
              "    </tr>\n",
              "  </thead>\n",
              "  <tbody>\n",
              "    <tr>\n",
              "      <th>0</th>\n",
              "      <td>video10.txt</td>\n",
              "      <td>[0.005026, 0.001356, 5.5e-05, 0.0, 0.000665, 2...</td>\n",
              "    </tr>\n",
              "    <tr>\n",
              "      <th>1</th>\n",
              "      <td>video100.txt</td>\n",
              "      <td>[0.019473, 0.005004, 9.8e-05, 0.0, 0.001991, 3...</td>\n",
              "    </tr>\n",
              "    <tr>\n",
              "      <th>2</th>\n",
              "      <td>video1001.txt</td>\n",
              "      <td>[0.00725, 0.002722, 5e-05, 0.0, 0.00107, 5.5e-...</td>\n",
              "    </tr>\n",
              "    <tr>\n",
              "      <th>3</th>\n",
              "      <td>video1003.txt</td>\n",
              "      <td>[0.071224, 0.011862, 0.00032, 0.0, 0.00718, 0....</td>\n",
              "    </tr>\n",
              "    <tr>\n",
              "      <th>4</th>\n",
              "      <td>video1004.txt</td>\n",
              "      <td>[0.053318, 0.009491, 0.000454, 0.0, 0.004754, ...</td>\n",
              "    </tr>\n",
              "  </tbody>\n",
              "</table>\n",
              "</div>"
            ],
            "text/plain": [
              "           video                                          HMPValues\n",
              "0    video10.txt  [0.005026, 0.001356, 5.5e-05, 0.0, 0.000665, 2...\n",
              "1   video100.txt  [0.019473, 0.005004, 9.8e-05, 0.0, 0.001991, 3...\n",
              "2  video1001.txt  [0.00725, 0.002722, 5e-05, 0.0, 0.00107, 5.5e-...\n",
              "3  video1003.txt  [0.071224, 0.011862, 0.00032, 0.0, 0.00718, 0....\n",
              "4  video1004.txt  [0.053318, 0.009491, 0.000454, 0.0, 0.004754, ..."
            ]
          },
          "metadata": {
            "tags": []
          },
          "execution_count": 6
        }
      ]
    },
    {
      "cell_type": "markdown",
      "metadata": {
        "id": "MpLZc_teyoJG"
      },
      "source": [
        "## LBP"
      ]
    },
    {
      "cell_type": "code",
      "metadata": {
        "colab": {
          "base_uri": "https://localhost:8080/",
          "height": 204
        },
        "id": "yjuCyMyDPND7",
        "outputId": "213970de-5592-4418-8ed8-4135f0b4e710"
      },
      "source": [
        "#read in lbp\n",
        "LBP_List = {}\n",
        "for filename in sorted(os.listdir('/content/drive/My Drive/CA684_Assignment/Dev-set/LBP')):\n",
        "    LBP_List[filename] = read_C3D('/content/drive/My Drive/CA684_Assignment/Dev-set/LBP/'+ filename) \n",
        "\n",
        "LBP_FeatureVector = pd.DataFrame(LBP_List.items(),columns=['video', 'LBPValues'] )\n",
        "LBP_FeatureVector.head()"
      ],
      "execution_count": null,
      "outputs": [
        {
          "output_type": "execute_result",
          "data": {
            "text/html": [
              "<div>\n",
              "<style scoped>\n",
              "    .dataframe tbody tr th:only-of-type {\n",
              "        vertical-align: middle;\n",
              "    }\n",
              "\n",
              "    .dataframe tbody tr th {\n",
              "        vertical-align: top;\n",
              "    }\n",
              "\n",
              "    .dataframe thead th {\n",
              "        text-align: right;\n",
              "    }\n",
              "</style>\n",
              "<table border=\"1\" class=\"dataframe\">\n",
              "  <thead>\n",
              "    <tr style=\"text-align: right;\">\n",
              "      <th></th>\n",
              "      <th>video</th>\n",
              "      <th>LBPValues</th>\n",
              "    </tr>\n",
              "  </thead>\n",
              "  <tbody>\n",
              "    <tr>\n",
              "      <th>0</th>\n",
              "      <td>video10-0.txt</td>\n",
              "      <td>[0.02525029, 0.00485774, 0.00489198, 0.0038623...</td>\n",
              "    </tr>\n",
              "    <tr>\n",
              "      <th>1</th>\n",
              "      <td>video10-112.txt</td>\n",
              "      <td>[0.02204427, 0.00510851, 0.00511767, 0.0041420...</td>\n",
              "    </tr>\n",
              "    <tr>\n",
              "      <th>2</th>\n",
              "      <td>video10-56.txt</td>\n",
              "      <td>[0.02373216, 0.00531973, 0.00533999, 0.0046180...</td>\n",
              "    </tr>\n",
              "    <tr>\n",
              "      <th>3</th>\n",
              "      <td>video100-0.txt</td>\n",
              "      <td>[0.01105228, 0.00367236, 0.00343943, 0.0023119...</td>\n",
              "    </tr>\n",
              "    <tr>\n",
              "      <th>4</th>\n",
              "      <td>video100-112.txt</td>\n",
              "      <td>[0.00998071, 0.00322242, 0.00303434, 0.0024368...</td>\n",
              "    </tr>\n",
              "  </tbody>\n",
              "</table>\n",
              "</div>"
            ],
            "text/plain": [
              "              video                                          LBPValues\n",
              "0     video10-0.txt  [0.02525029, 0.00485774, 0.00489198, 0.0038623...\n",
              "1   video10-112.txt  [0.02204427, 0.00510851, 0.00511767, 0.0041420...\n",
              "2    video10-56.txt  [0.02373216, 0.00531973, 0.00533999, 0.0046180...\n",
              "3    video100-0.txt  [0.01105228, 0.00367236, 0.00343943, 0.0023119...\n",
              "4  video100-112.txt  [0.00998071, 0.00322242, 0.00303434, 0.0024368..."
            ]
          },
          "metadata": {
            "tags": []
          },
          "execution_count": 8
        }
      ]
    },
    {
      "cell_type": "code",
      "metadata": {
        "colab": {
          "base_uri": "https://localhost:8080/",
          "height": 204
        },
        "id": "tGu2L5Vgms9y",
        "outputId": "1cedf4bd-8613-4523-fd72-60f22d571ddd"
      },
      "source": [
        "l = LBP_FeatureVector.copy()\n",
        "l['video'] = l['video'].apply(lambda x:x.split(\"-\")[0]) # get rid of file extension\n",
        "\n",
        "l['lenVals'] = l['LBPValues'].apply(lambda x : len(x)) # make column of the length of the arrays\n",
        "maxlen = l['lenVals'].max() # find the max array\n",
        "\n",
        "l['LBPValues'] = l['LBPValues'].apply(lambda x : np.pad(x,(0, maxlen - len(x))) if len(x) < maxlen else x ) # make sure all lists are the of the max size (122)\n",
        "\n",
        "\n",
        "uniqueVidNames = l['video'].unique() # get a list of unique names\n",
        "\n",
        "# make a new Dataframe with [Video, Sum of LBPValues]\n",
        "GroupedVideosLBP = {}\n",
        "for name in uniqueVidNames:\n",
        "  result = np.zeros(122)\n",
        "  for values in l[l['video'] == name]['LBPValues']:\n",
        "    result += np.array(values)  # add up vals\n",
        "  GroupedVideosLBP[name] = result\n",
        "\n",
        "\n",
        "GroupedLBP = pd.DataFrame(GroupedVideosLBP.items(),columns=['video', 'LBPValues'])\n",
        "\n",
        "GroupedLBP.head()\n",
        "\n",
        "\n"
      ],
      "execution_count": null,
      "outputs": [
        {
          "output_type": "execute_result",
          "data": {
            "text/html": [
              "<div>\n",
              "<style scoped>\n",
              "    .dataframe tbody tr th:only-of-type {\n",
              "        vertical-align: middle;\n",
              "    }\n",
              "\n",
              "    .dataframe tbody tr th {\n",
              "        vertical-align: top;\n",
              "    }\n",
              "\n",
              "    .dataframe thead th {\n",
              "        text-align: right;\n",
              "    }\n",
              "</style>\n",
              "<table border=\"1\" class=\"dataframe\">\n",
              "  <thead>\n",
              "    <tr style=\"text-align: right;\">\n",
              "      <th></th>\n",
              "      <th>video</th>\n",
              "      <th>LBPValues</th>\n",
              "    </tr>\n",
              "  </thead>\n",
              "  <tbody>\n",
              "    <tr>\n",
              "      <th>0</th>\n",
              "      <td>video10</td>\n",
              "      <td>[0.07102672, 0.01528598, 0.015349640000000001,...</td>\n",
              "    </tr>\n",
              "    <tr>\n",
              "      <th>1</th>\n",
              "      <td>video100</td>\n",
              "      <td>[0.031912140000000006, 0.01021509, 0.00962288,...</td>\n",
              "    </tr>\n",
              "    <tr>\n",
              "      <th>2</th>\n",
              "      <td>video1001</td>\n",
              "      <td>[0.04570203, 0.014482430000000001, 0.01225585,...</td>\n",
              "    </tr>\n",
              "    <tr>\n",
              "      <th>3</th>\n",
              "      <td>video1003</td>\n",
              "      <td>[0.02102672, 0.0044164700000000005, 0.0038016,...</td>\n",
              "    </tr>\n",
              "    <tr>\n",
              "      <th>4</th>\n",
              "      <td>video1004</td>\n",
              "      <td>[0.03755113, 0.00602624, 0.00574605, 0.0051658...</td>\n",
              "    </tr>\n",
              "  </tbody>\n",
              "</table>\n",
              "</div>"
            ],
            "text/plain": [
              "       video                                          LBPValues\n",
              "0    video10  [0.07102672, 0.01528598, 0.015349640000000001,...\n",
              "1   video100  [0.031912140000000006, 0.01021509, 0.00962288,...\n",
              "2  video1001  [0.04570203, 0.014482430000000001, 0.01225585,...\n",
              "3  video1003  [0.02102672, 0.0044164700000000005, 0.0038016,...\n",
              "4  video1004  [0.03755113, 0.00602624, 0.00574605, 0.0051658..."
            ]
          },
          "metadata": {
            "tags": []
          },
          "execution_count": 9
        }
      ]
    },
    {
      "cell_type": "markdown",
      "metadata": {
        "id": "vFOOzqaCDMPT"
      },
      "source": [
        "# Combining features"
      ]
    },
    {
      "cell_type": "markdown",
      "metadata": {
        "id": "D3mI3Vpvy2kb"
      },
      "source": [
        "## Combine C3D and HMP"
      ]
    },
    {
      "cell_type": "code",
      "metadata": {
        "colab": {
          "base_uri": "https://localhost:8080/",
          "height": 340
        },
        "id": "rHeIxwqlohvq",
        "outputId": "56791ac0-7e6a-413e-aa95-5a2f33aca57d"
      },
      "source": [
        "\n",
        "C3D_HMP_Combined = C3D_FeatureVector.merge(HMP_FeatureVector,on='video') # join C3D and HMP on video name\n",
        "C3D_HMP_Combined['video'] = C3D_FeatureVector['video'].apply(lambda x: x.split('.')[0]) # remove the file extension \n",
        "\n",
        "CombinedFeatures = C3D_HMP_Combined.merge(GroupedLBP,on='video') # join with LBP\n",
        "\n",
        "GroundCombined = CombinedFeatures.merge(groundTruthDF,on='video') # join the C3D/HMP/LBP combined dataframe with the ground truth dataframe on video name\n",
        "GroundCombined.head()\n"
      ],
      "execution_count": null,
      "outputs": [
        {
          "output_type": "execute_result",
          "data": {
            "text/html": [
              "<div>\n",
              "<style scoped>\n",
              "    .dataframe tbody tr th:only-of-type {\n",
              "        vertical-align: middle;\n",
              "    }\n",
              "\n",
              "    .dataframe tbody tr th {\n",
              "        vertical-align: top;\n",
              "    }\n",
              "\n",
              "    .dataframe thead th {\n",
              "        text-align: right;\n",
              "    }\n",
              "</style>\n",
              "<table border=\"1\" class=\"dataframe\">\n",
              "  <thead>\n",
              "    <tr style=\"text-align: right;\">\n",
              "      <th></th>\n",
              "      <th>video</th>\n",
              "      <th>C3DValues</th>\n",
              "      <th>HMPValues</th>\n",
              "      <th>LBPValues</th>\n",
              "      <th>short-term_memorability</th>\n",
              "      <th>long-term_memorability</th>\n",
              "    </tr>\n",
              "  </thead>\n",
              "  <tbody>\n",
              "    <tr>\n",
              "      <th>0</th>\n",
              "      <td>video10</td>\n",
              "      <td>[9.006e-05, 0.00061494, 0.00343634, 0.00128092...</td>\n",
              "      <td>[0.005026, 0.001356, 5.5e-05, 0.0, 0.000665, 2...</td>\n",
              "      <td>[0.07102672, 0.01528598, 0.015349640000000001,...</td>\n",
              "      <td>0.950</td>\n",
              "      <td>0.900</td>\n",
              "    </tr>\n",
              "    <tr>\n",
              "      <th>1</th>\n",
              "      <td>video100</td>\n",
              "      <td>[0.00231174, 0.00996551, 0.02743902, 5.85e-06,...</td>\n",
              "      <td>[0.019473, 0.005004, 9.8e-05, 0.0, 0.001991, 3...</td>\n",
              "      <td>[0.031912140000000006, 0.01021509, 0.00962288,...</td>\n",
              "      <td>0.951</td>\n",
              "      <td>0.889</td>\n",
              "    </tr>\n",
              "    <tr>\n",
              "      <th>2</th>\n",
              "      <td>video1001</td>\n",
              "      <td>[0.46803489, 0.4895013, 7.944e-05, 9.68e-06, 2...</td>\n",
              "      <td>[0.00725, 0.002722, 5e-05, 0.0, 0.00107, 5.5e-...</td>\n",
              "      <td>[0.04570203, 0.014482430000000001, 0.01225585,...</td>\n",
              "      <td>0.899</td>\n",
              "      <td>1.000</td>\n",
              "    </tr>\n",
              "    <tr>\n",
              "      <th>3</th>\n",
              "      <td>video1003</td>\n",
              "      <td>[0.01403566, 0.00049223, 0.00023311, 2.793e-05...</td>\n",
              "      <td>[0.071224, 0.011862, 0.00032, 0.0, 0.00718, 0....</td>\n",
              "      <td>[0.02102672, 0.0044164700000000005, 0.0038016,...</td>\n",
              "      <td>0.867</td>\n",
              "      <td>0.846</td>\n",
              "    </tr>\n",
              "    <tr>\n",
              "      <th>4</th>\n",
              "      <td>video1004</td>\n",
              "      <td>[0.04673432, 0.00086782, 5.25e-06, 8.05e-06, 2...</td>\n",
              "      <td>[0.053318, 0.009491, 0.000454, 0.0, 0.004754, ...</td>\n",
              "      <td>[0.03755113, 0.00602624, 0.00574605, 0.0051658...</td>\n",
              "      <td>0.753</td>\n",
              "      <td>0.571</td>\n",
              "    </tr>\n",
              "  </tbody>\n",
              "</table>\n",
              "</div>"
            ],
            "text/plain": [
              "       video  ... long-term_memorability\n",
              "0    video10  ...                  0.900\n",
              "1   video100  ...                  0.889\n",
              "2  video1001  ...                  1.000\n",
              "3  video1003  ...                  0.846\n",
              "4  video1004  ...                  0.571\n",
              "\n",
              "[5 rows x 6 columns]"
            ]
          },
          "metadata": {
            "tags": []
          },
          "execution_count": 13
        }
      ]
    },
    {
      "cell_type": "markdown",
      "metadata": {
        "id": "UngxphCzy6KZ"
      },
      "source": [
        "## Combine C3D/HMP with LBP"
      ]
    },
    {
      "cell_type": "code",
      "metadata": {
        "colab": {
          "base_uri": "https://localhost:8080/"
        },
        "id": "1jpcF3Hooxm2",
        "outputId": "0e3f3411-a1aa-423d-c80a-dbacd7f7f60f"
      },
      "source": [
        "featuresCopy = GroundCombined[['C3DValues','HMPValues','LBPValues']].copy() # make a copy of the two features\n",
        "\n",
        "featuresCopy['C3DValues'] = featuresCopy['C3DValues'].apply(lambda x: np.pad(x,(0,5974),'constant')) # pad the C3D column with zeros to match the shape of the HMP \n",
        "featuresCopy['LBPValues'] = featuresCopy['LBPValues'].apply(lambda x: np.pad(x,(0,5953),'constant')) # pad the LBP column with zeros to match the shape of the HMP \n",
        "\n",
        "featuresCopy['Combined'] = featuresCopy['C3DValues'] + featuresCopy['HMPValues'] + featuresCopy['LBPValues'] # add the three columns together\n",
        "featuresCopy['Combined'].head()"
      ],
      "execution_count": null,
      "outputs": [
        {
          "output_type": "execute_result",
          "data": {
            "text/plain": [
              "0    [0.07614278000000001, 0.01725692, 0.01884098, ...\n",
              "1    [0.05369688, 0.0251846, 0.0371599, 0.00738432,...\n",
              "2    [0.5209869199999999, 0.50670573, 0.01238529, 0...\n",
              "3    [0.10628638, 0.0167707, 0.00435471, 0.00289734...\n",
              "4    [0.13760345000000002, 0.01638506, 0.0062052999...\n",
              "Name: Combined, dtype: object"
            ]
          },
          "metadata": {
            "tags": []
          },
          "execution_count": 11
        }
      ]
    },
    {
      "cell_type": "markdown",
      "metadata": {
        "id": "Ko5c0yyWzCQF"
      },
      "source": [
        "# Split Data"
      ]
    },
    {
      "cell_type": "code",
      "metadata": {
        "id": "XJIhsU7-1uih"
      },
      "source": [
        "from sklearn.model_selection import train_test_split\n",
        "from sklearn import preprocessing\n",
        "from sklearn import utils\n",
        "\n",
        "X = featuresCopy['Combined'].tolist()\n",
        "y = GroundCombined[['short-term_memorability','long-term_memorability']].values\n",
        "\n",
        "X_train, X_test, Y_train, Y_test = train_test_split(X,y, test_size=0.20, random_state=42)\n"
      ],
      "execution_count": null,
      "outputs": []
    },
    {
      "cell_type": "markdown",
      "metadata": {
        "id": "QWhmjN8nJaTh"
      },
      "source": [
        "# Create and Train model"
      ]
    },
    {
      "cell_type": "markdown",
      "metadata": {
        "id": "8KwFQmyLDXsp"
      },
      "source": [
        "## Random Forest"
      ]
    },
    {
      "cell_type": "code",
      "metadata": {
        "colab": {
          "base_uri": "https://localhost:8080/"
        },
        "id": "JLt0OL2TvbwO",
        "outputId": "09237d02-dfa3-49c6-8e8e-14e8239e6b5a"
      },
      "source": [
        "from sklearn.ensemble import RandomForestRegressor\n",
        "\n",
        "\n",
        "#setting parameters\n",
        "rf = RandomForestRegressor(n_estimators=20,max_depth=10,random_state=50,verbose=2)\n",
        "\n",
        "#training dataset\n",
        "rf.fit(X_train,Y_train)\n",
        "\n",
        "predictions = rf.predict(X_test)\n",
        "\n",
        "Get_score(predictions,Y_test) # get Spearman's correlation coefficient\n"
      ],
      "execution_count": null,
      "outputs": [
        {
          "output_type": "stream",
          "text": [
            "[Parallel(n_jobs=1)]: Using backend SequentialBackend with 1 concurrent workers.\n"
          ],
          "name": "stderr"
        },
        {
          "output_type": "stream",
          "text": [
            "building tree 1 of 20\n"
          ],
          "name": "stdout"
        },
        {
          "output_type": "stream",
          "text": [
            "[Parallel(n_jobs=1)]: Done   1 out of   1 | elapsed:    9.0s remaining:    0.0s\n"
          ],
          "name": "stderr"
        },
        {
          "output_type": "stream",
          "text": [
            "building tree 2 of 20\n",
            "building tree 3 of 20\n",
            "building tree 4 of 20\n",
            "building tree 5 of 20\n",
            "building tree 6 of 20\n",
            "building tree 7 of 20\n",
            "building tree 8 of 20\n",
            "building tree 9 of 20\n",
            "building tree 10 of 20\n",
            "building tree 11 of 20\n",
            "building tree 12 of 20\n",
            "building tree 13 of 20\n",
            "building tree 14 of 20\n",
            "building tree 15 of 20\n",
            "building tree 16 of 20\n",
            "building tree 17 of 20\n",
            "building tree 18 of 20\n",
            "building tree 19 of 20\n",
            "building tree 20 of 20\n",
            "The Spearman's correlation coefficient is: 0.282\n",
            "The Spearman's correlation coefficient is: 0.131\n"
          ],
          "name": "stdout"
        },
        {
          "output_type": "stream",
          "text": [
            "[Parallel(n_jobs=1)]: Done  20 out of  20 | elapsed:  3.0min finished\n",
            "[Parallel(n_jobs=1)]: Using backend SequentialBackend with 1 concurrent workers.\n",
            "[Parallel(n_jobs=1)]: Done   1 out of   1 | elapsed:    0.0s remaining:    0.0s\n",
            "[Parallel(n_jobs=1)]: Done  20 out of  20 | elapsed:    0.0s finished\n"
          ],
          "name": "stderr"
        }
      ]
    },
    {
      "cell_type": "markdown",
      "metadata": {
        "id": "r3-Eyx4FK94q"
      },
      "source": [
        "## Save model"
      ]
    },
    {
      "cell_type": "code",
      "metadata": {
        "id": "2JejW_doAsaH"
      },
      "source": [
        "import pickle\n",
        "with open(\"/content/drive/My Drive/rf_model.pkl\", \"wb\") as f:\n",
        " pickle.dump(rf, f)"
      ],
      "execution_count": null,
      "outputs": []
    },
    {
      "cell_type": "markdown",
      "metadata": {
        "id": "4abn-T02LAQS"
      },
      "source": [
        "## Load Model"
      ]
    },
    {
      "cell_type": "code",
      "metadata": {
        "id": "Isp4oVRPK7fg"
      },
      "source": [
        "with open(\"/content/drive/My Drive/rf_model.pkl\", \"rb\") as f:\n",
        " model = pickle.load(f)"
      ],
      "execution_count": null,
      "outputs": []
    },
    {
      "cell_type": "markdown",
      "metadata": {
        "id": "vJhlZb8AzOhw"
      },
      "source": [
        "# Test Set "
      ]
    },
    {
      "cell_type": "markdown",
      "metadata": {
        "id": "YfrGdg_GRMoa"
      },
      "source": [
        "## Process Test-set data\n"
      ]
    },
    {
      "cell_type": "code",
      "metadata": {
        "colab": {
          "base_uri": "https://localhost:8080/",
          "height": 204
        },
        "id": "wU4PjgxnRRQ-",
        "outputId": "6237ad71-665f-4c3b-da15-996ca9d1c583"
      },
      "source": [
        "TestGroundTruthDF = pd.read_csv('/content/drive/My Drive/CA684_Assignment/Test-set/Ground-truth_test/ground_truth_template.csv')\n",
        "TestGroundTruthDF.head()\n"
      ],
      "execution_count": null,
      "outputs": [
        {
          "output_type": "execute_result",
          "data": {
            "text/html": [
              "<div>\n",
              "<style scoped>\n",
              "    .dataframe tbody tr th:only-of-type {\n",
              "        vertical-align: middle;\n",
              "    }\n",
              "\n",
              "    .dataframe tbody tr th {\n",
              "        vertical-align: top;\n",
              "    }\n",
              "\n",
              "    .dataframe thead th {\n",
              "        text-align: right;\n",
              "    }\n",
              "</style>\n",
              "<table border=\"1\" class=\"dataframe\">\n",
              "  <thead>\n",
              "    <tr style=\"text-align: right;\">\n",
              "      <th></th>\n",
              "      <th>video</th>\n",
              "      <th>short-term_memorability</th>\n",
              "      <th>nb_short-term_annotations</th>\n",
              "      <th>long-term_memorability</th>\n",
              "      <th>nb_long-term_annotations</th>\n",
              "    </tr>\n",
              "  </thead>\n",
              "  <tbody>\n",
              "    <tr>\n",
              "      <th>0</th>\n",
              "      <td>7494</td>\n",
              "      <td>NaN</td>\n",
              "      <td>33</td>\n",
              "      <td>NaN</td>\n",
              "      <td>12</td>\n",
              "    </tr>\n",
              "    <tr>\n",
              "      <th>1</th>\n",
              "      <td>7495</td>\n",
              "      <td>NaN</td>\n",
              "      <td>34</td>\n",
              "      <td>NaN</td>\n",
              "      <td>10</td>\n",
              "    </tr>\n",
              "    <tr>\n",
              "      <th>2</th>\n",
              "      <td>7496</td>\n",
              "      <td>NaN</td>\n",
              "      <td>32</td>\n",
              "      <td>NaN</td>\n",
              "      <td>13</td>\n",
              "    </tr>\n",
              "    <tr>\n",
              "      <th>3</th>\n",
              "      <td>7497</td>\n",
              "      <td>NaN</td>\n",
              "      <td>33</td>\n",
              "      <td>NaN</td>\n",
              "      <td>10</td>\n",
              "    </tr>\n",
              "    <tr>\n",
              "      <th>4</th>\n",
              "      <td>7498</td>\n",
              "      <td>NaN</td>\n",
              "      <td>33</td>\n",
              "      <td>NaN</td>\n",
              "      <td>10</td>\n",
              "    </tr>\n",
              "  </tbody>\n",
              "</table>\n",
              "</div>"
            ],
            "text/plain": [
              "   video  ...  nb_long-term_annotations\n",
              "0   7494  ...                        12\n",
              "1   7495  ...                        10\n",
              "2   7496  ...                        13\n",
              "3   7497  ...                        10\n",
              "4   7498  ...                        10\n",
              "\n",
              "[5 rows x 5 columns]"
            ]
          },
          "metadata": {
            "tags": []
          },
          "execution_count": 48
        }
      ]
    },
    {
      "cell_type": "code",
      "metadata": {
        "colab": {
          "base_uri": "https://localhost:8080/",
          "height": 204
        },
        "id": "Q87SbFPxUixO",
        "outputId": "1d8f3b9f-312a-4471-99db-a3f8968a6de9"
      },
      "source": [
        "Test_C3D_List = {}\n",
        "for filename in sorted(os.listdir('/content/drive/My Drive/CA684_Assignment/Test-set/C3D_test')):\n",
        "    Test_C3D_List[filename] = read_C3D('/content/drive/My Drive/CA684_Assignment/Test-set/C3D_test/'+ filename) # read in C3D\n",
        "\n",
        "Test_C3D_FeatureVector = pd.DataFrame(Test_C3D_List.items(),columns=['video', 'C3DValues'] )\n",
        "Test_C3D_FeatureVector.head()\n",
        "\n",
        "\n",
        "#read in HMP\n",
        "Test_HMP_List = {} \n",
        "for filename in sorted(os.listdir('/content/drive/My Drive/CA684_Assignment/Test-set/HMP_test')):\n",
        "    Test_HMP_List[filename] = read_HMP('/content/drive/My Drive/CA684_Assignment/Test-set/HMP_test/'+ filename) # read in HMP\n",
        "    \n",
        "Test_HMP_FeatureVector = pd.DataFrame(Test_HMP_List.items(),columns=['video', 'HMPValues'] ) \n",
        "Test_HMP_FeatureVector.head()\n"
      ],
      "execution_count": null,
      "outputs": [
        {
          "output_type": "execute_result",
          "data": {
            "text/html": [
              "<div>\n",
              "<style scoped>\n",
              "    .dataframe tbody tr th:only-of-type {\n",
              "        vertical-align: middle;\n",
              "    }\n",
              "\n",
              "    .dataframe tbody tr th {\n",
              "        vertical-align: top;\n",
              "    }\n",
              "\n",
              "    .dataframe thead th {\n",
              "        text-align: right;\n",
              "    }\n",
              "</style>\n",
              "<table border=\"1\" class=\"dataframe\">\n",
              "  <thead>\n",
              "    <tr style=\"text-align: right;\">\n",
              "      <th></th>\n",
              "      <th>video</th>\n",
              "      <th>HMPValues</th>\n",
              "    </tr>\n",
              "  </thead>\n",
              "  <tbody>\n",
              "    <tr>\n",
              "      <th>0</th>\n",
              "      <td>video10000.txt</td>\n",
              "      <td>[0.127454, 0.020965, 0.000221, 0.0, 0.009964, ...</td>\n",
              "    </tr>\n",
              "    <tr>\n",
              "      <th>1</th>\n",
              "      <td>video10001.txt</td>\n",
              "      <td>[0.015911, 0.003141, 0.000124, 0.0, 0.001083, ...</td>\n",
              "    </tr>\n",
              "    <tr>\n",
              "      <th>2</th>\n",
              "      <td>video10002.txt</td>\n",
              "      <td>[0.041081, 0.013914, 0.000198, 0.0, 0.002648, ...</td>\n",
              "    </tr>\n",
              "    <tr>\n",
              "      <th>3</th>\n",
              "      <td>video10003.txt</td>\n",
              "      <td>[0.047053, 0.009497, 0.000137, 0.0, 0.00867, 9...</td>\n",
              "    </tr>\n",
              "    <tr>\n",
              "      <th>4</th>\n",
              "      <td>video10004.txt</td>\n",
              "      <td>[0.003161, 0.00033, 0.0, 0.0, 0.000189, 0.0, 0...</td>\n",
              "    </tr>\n",
              "  </tbody>\n",
              "</table>\n",
              "</div>"
            ],
            "text/plain": [
              "            video                                          HMPValues\n",
              "0  video10000.txt  [0.127454, 0.020965, 0.000221, 0.0, 0.009964, ...\n",
              "1  video10001.txt  [0.015911, 0.003141, 0.000124, 0.0, 0.001083, ...\n",
              "2  video10002.txt  [0.041081, 0.013914, 0.000198, 0.0, 0.002648, ...\n",
              "3  video10003.txt  [0.047053, 0.009497, 0.000137, 0.0, 0.00867, 9...\n",
              "4  video10004.txt  [0.003161, 0.00033, 0.0, 0.0, 0.000189, 0.0, 0..."
            ]
          },
          "metadata": {
            "tags": []
          },
          "execution_count": 49
        }
      ]
    },
    {
      "cell_type": "code",
      "metadata": {
        "colab": {
          "base_uri": "https://localhost:8080/",
          "height": 204
        },
        "id": "Q1hoXdYsa6BQ",
        "outputId": "13ddead8-1230-40f5-b448-b92097688e45"
      },
      "source": [
        "#read in lbp\n",
        "Test_LBP_List = {}\n",
        "for filename in sorted(os.listdir('/content/drive/My Drive/CA684_Assignment/Test-set/LBP_test')):\n",
        "    Test_LBP_List[filename] = read_C3D('/content/drive/My Drive/CA684_Assignment/Test-set/LBP_test/'+ filename) \n",
        "\n",
        "Test_LBP_FeatureVector = pd.DataFrame(Test_LBP_List.items(),columns=['video', 'LBPValues'] )\n",
        "Test_LBP_FeatureVector.head()"
      ],
      "execution_count": null,
      "outputs": [
        {
          "output_type": "execute_result",
          "data": {
            "text/html": [
              "<div>\n",
              "<style scoped>\n",
              "    .dataframe tbody tr th:only-of-type {\n",
              "        vertical-align: middle;\n",
              "    }\n",
              "\n",
              "    .dataframe tbody tr th {\n",
              "        vertical-align: top;\n",
              "    }\n",
              "\n",
              "    .dataframe thead th {\n",
              "        text-align: right;\n",
              "    }\n",
              "</style>\n",
              "<table border=\"1\" class=\"dataframe\">\n",
              "  <thead>\n",
              "    <tr style=\"text-align: right;\">\n",
              "      <th></th>\n",
              "      <th>video</th>\n",
              "      <th>LBPValues</th>\n",
              "    </tr>\n",
              "  </thead>\n",
              "  <tbody>\n",
              "    <tr>\n",
              "      <th>0</th>\n",
              "      <td>video10000-0.txt</td>\n",
              "      <td>[0.01514323, 0.00311343, 0.00233989, 0.0014096...</td>\n",
              "    </tr>\n",
              "    <tr>\n",
              "      <th>1</th>\n",
              "      <td>video10000-112.txt</td>\n",
              "      <td>[0.01459828, 0.00366271, 0.00257813, 0.0016859...</td>\n",
              "    </tr>\n",
              "    <tr>\n",
              "      <th>2</th>\n",
              "      <td>video10000-56.txt</td>\n",
              "      <td>[0.0160055, 0.00362847, 0.00271557, 0.00198544...</td>\n",
              "    </tr>\n",
              "    <tr>\n",
              "      <th>3</th>\n",
              "      <td>video10001-0.txt</td>\n",
              "      <td>[0.01513503, 0.00442515, 0.00394483, 0.0028785...</td>\n",
              "    </tr>\n",
              "    <tr>\n",
              "      <th>4</th>\n",
              "      <td>video10001-112.txt</td>\n",
              "      <td>[0.0158941, 0.00302421, 0.0033912, 0.0032065, ...</td>\n",
              "    </tr>\n",
              "  </tbody>\n",
              "</table>\n",
              "</div>"
            ],
            "text/plain": [
              "                video                                          LBPValues\n",
              "0    video10000-0.txt  [0.01514323, 0.00311343, 0.00233989, 0.0014096...\n",
              "1  video10000-112.txt  [0.01459828, 0.00366271, 0.00257813, 0.0016859...\n",
              "2   video10000-56.txt  [0.0160055, 0.00362847, 0.00271557, 0.00198544...\n",
              "3    video10001-0.txt  [0.01513503, 0.00442515, 0.00394483, 0.0028785...\n",
              "4  video10001-112.txt  [0.0158941, 0.00302421, 0.0033912, 0.0032065, ..."
            ]
          },
          "metadata": {
            "tags": []
          },
          "execution_count": 51
        }
      ]
    },
    {
      "cell_type": "code",
      "metadata": {
        "colab": {
          "base_uri": "https://localhost:8080/",
          "height": 204
        },
        "id": "g4fHh_fIj3Rf",
        "outputId": "eddab611-7caf-4f07-cad3-3ab3adf4ca6d"
      },
      "source": [
        "l_Test = Test_LBP_FeatureVector.copy()\n",
        "l_Test['video'] = l_Test['video'].apply(lambda x:x.split(\"-\")[0]) # get rid of file extension\n",
        "\n",
        "l_Test['lenVals'] = l_Test['LBPValues'].apply(lambda x : len(x)) # make column of the length of the arrays\n",
        "maxlen = l_Test['lenVals'].max() # find the max array\n",
        "\n",
        "l_Test['LBPValues'] = l_Test['LBPValues'].apply(lambda x : np.pad(x,(0, maxlen - len(x))) if len(x) < maxlen else x ) # make sure all lists are the of the max size (122)\n",
        "\n",
        "\n",
        "uniqueVidNamesTest = l_Test['video'].unique() # get a list of unique names\n",
        "\n",
        "# make a new Dataframe with [Video, Sum of LBPValues]\n",
        "GroupedVideosLBPTest = {}\n",
        "for name in uniqueVidNamesTest:\n",
        "  result = np.zeros(122)\n",
        "  for values in l_Test[l_Test['video'] == name]['LBPValues']:\n",
        "    result += np.array(values)  # add up vals\n",
        "  GroupedVideosLBPTest[name] = result\n",
        "\n",
        "\n",
        "GroupedLBPTest = pd.DataFrame(GroupedVideosLBPTest.items(),columns=['video', 'LBPValues'])\n",
        "\n",
        "GroupedLBPTest.head()\n"
      ],
      "execution_count": null,
      "outputs": [
        {
          "output_type": "execute_result",
          "data": {
            "text/html": [
              "<div>\n",
              "<style scoped>\n",
              "    .dataframe tbody tr th:only-of-type {\n",
              "        vertical-align: middle;\n",
              "    }\n",
              "\n",
              "    .dataframe tbody tr th {\n",
              "        vertical-align: top;\n",
              "    }\n",
              "\n",
              "    .dataframe thead th {\n",
              "        text-align: right;\n",
              "    }\n",
              "</style>\n",
              "<table border=\"1\" class=\"dataframe\">\n",
              "  <thead>\n",
              "    <tr style=\"text-align: right;\">\n",
              "      <th></th>\n",
              "      <th>video</th>\n",
              "      <th>LBPValues</th>\n",
              "    </tr>\n",
              "  </thead>\n",
              "  <tbody>\n",
              "    <tr>\n",
              "      <th>0</th>\n",
              "      <td>video10000</td>\n",
              "      <td>[0.04574701, 0.01040461, 0.007633590000000001,...</td>\n",
              "    </tr>\n",
              "    <tr>\n",
              "      <th>1</th>\n",
              "      <td>video10001</td>\n",
              "      <td>[0.04634163, 0.0107364, 0.010868530000000001, ...</td>\n",
              "    </tr>\n",
              "    <tr>\n",
              "      <th>2</th>\n",
              "      <td>video10002</td>\n",
              "      <td>[0.03803337, 0.00661507, 0.00577016, 0.0042202...</td>\n",
              "    </tr>\n",
              "    <tr>\n",
              "      <th>3</th>\n",
              "      <td>video10003</td>\n",
              "      <td>[0.04255836, 0.015097899999999997, 0.010598469...</td>\n",
              "    </tr>\n",
              "    <tr>\n",
              "      <th>4</th>\n",
              "      <td>video10004</td>\n",
              "      <td>[0.03731337, 0.0065181300000000005, 0.00695457...</td>\n",
              "    </tr>\n",
              "  </tbody>\n",
              "</table>\n",
              "</div>"
            ],
            "text/plain": [
              "        video                                          LBPValues\n",
              "0  video10000  [0.04574701, 0.01040461, 0.007633590000000001,...\n",
              "1  video10001  [0.04634163, 0.0107364, 0.010868530000000001, ...\n",
              "2  video10002  [0.03803337, 0.00661507, 0.00577016, 0.0042202...\n",
              "3  video10003  [0.04255836, 0.015097899999999997, 0.010598469...\n",
              "4  video10004  [0.03731337, 0.0065181300000000005, 0.00695457..."
            ]
          },
          "metadata": {
            "tags": []
          },
          "execution_count": 76
        }
      ]
    },
    {
      "cell_type": "code",
      "metadata": {
        "colab": {
          "base_uri": "https://localhost:8080/",
          "height": 289
        },
        "id": "pcE5--hIlYf-",
        "outputId": "9b676c8d-5402-4fd0-8d56-9013d24975bd"
      },
      "source": [
        "#combine C3D and HMP\n",
        "C3D_HMP_CombinedTest = Test_C3D_FeatureVector.merge(Test_HMP_FeatureVector,on='video') # join C3D and HMP on video name\n",
        "C3D_HMP_CombinedTest['video'] = Test_C3D_FeatureVector['video'].apply(lambda x: x.split('.')[0]) # remove the file extension \n",
        "\n",
        "TestCombinedFeatures = C3D_HMP_CombinedTest.merge(GroupedLBPTest,on='video') # join with LBP\n",
        "TestCombinedFeatures.head()"
      ],
      "execution_count": null,
      "outputs": [
        {
          "output_type": "execute_result",
          "data": {
            "text/html": [
              "<div>\n",
              "<style scoped>\n",
              "    .dataframe tbody tr th:only-of-type {\n",
              "        vertical-align: middle;\n",
              "    }\n",
              "\n",
              "    .dataframe tbody tr th {\n",
              "        vertical-align: top;\n",
              "    }\n",
              "\n",
              "    .dataframe thead th {\n",
              "        text-align: right;\n",
              "    }\n",
              "</style>\n",
              "<table border=\"1\" class=\"dataframe\">\n",
              "  <thead>\n",
              "    <tr style=\"text-align: right;\">\n",
              "      <th></th>\n",
              "      <th>video</th>\n",
              "      <th>C3DValues</th>\n",
              "      <th>HMPValues</th>\n",
              "      <th>LBPValues</th>\n",
              "    </tr>\n",
              "  </thead>\n",
              "  <tbody>\n",
              "    <tr>\n",
              "      <th>0</th>\n",
              "      <td>video10000</td>\n",
              "      <td>[0.01793277, 0.0177311, 0.0032704, 3.46e-06, 1...</td>\n",
              "      <td>[0.127454, 0.020965, 0.000221, 0.0, 0.009964, ...</td>\n",
              "      <td>[0.04574701, 0.01040461, 0.007633590000000001,...</td>\n",
              "    </tr>\n",
              "    <tr>\n",
              "      <th>1</th>\n",
              "      <td>video10001</td>\n",
              "      <td>[0.02396697, 0.00180796, 1.783e-05, 6e-08, 1e-...</td>\n",
              "      <td>[0.015911, 0.003141, 0.000124, 0.0, 0.001083, ...</td>\n",
              "      <td>[0.04634163, 0.0107364, 0.010868530000000001, ...</td>\n",
              "    </tr>\n",
              "    <tr>\n",
              "      <th>2</th>\n",
              "      <td>video10002</td>\n",
              "      <td>[0.01869615, 0.86258429, 5e-07, 1.12e-06, 1.46...</td>\n",
              "      <td>[0.041081, 0.013914, 0.000198, 0.0, 0.002648, ...</td>\n",
              "      <td>[0.03803337, 0.00661507, 0.00577016, 0.0042202...</td>\n",
              "    </tr>\n",
              "    <tr>\n",
              "      <th>3</th>\n",
              "      <td>video10003</td>\n",
              "      <td>[0.00055588, 0.00024811, 0.24000312, 3.271e-05...</td>\n",
              "      <td>[0.047053, 0.009497, 0.000137, 0.0, 0.00867, 9...</td>\n",
              "      <td>[0.04255836, 0.015097899999999997, 0.010598469...</td>\n",
              "    </tr>\n",
              "    <tr>\n",
              "      <th>4</th>\n",
              "      <td>video10004</td>\n",
              "      <td>[0.05058656, 0.00623968, 0.11702564, 0.0005364...</td>\n",
              "      <td>[0.003161, 0.00033, 0.0, 0.0, 0.000189, 0.0, 0...</td>\n",
              "      <td>[0.03731337, 0.0065181300000000005, 0.00695457...</td>\n",
              "    </tr>\n",
              "  </tbody>\n",
              "</table>\n",
              "</div>"
            ],
            "text/plain": [
              "        video  ...                                          LBPValues\n",
              "0  video10000  ...  [0.04574701, 0.01040461, 0.007633590000000001,...\n",
              "1  video10001  ...  [0.04634163, 0.0107364, 0.010868530000000001, ...\n",
              "2  video10002  ...  [0.03803337, 0.00661507, 0.00577016, 0.0042202...\n",
              "3  video10003  ...  [0.04255836, 0.015097899999999997, 0.010598469...\n",
              "4  video10004  ...  [0.03731337, 0.0065181300000000005, 0.00695457...\n",
              "\n",
              "[5 rows x 4 columns]"
            ]
          },
          "metadata": {
            "tags": []
          },
          "execution_count": 78
        }
      ]
    },
    {
      "cell_type": "code",
      "metadata": {
        "colab": {
          "base_uri": "https://localhost:8080/"
        },
        "id": "yytSzbn4nQ3l",
        "outputId": "4896c8e3-5aca-48c1-a9ee-7500a8a9d630"
      },
      "source": [
        "TestfeaturesCopy = TestCombinedFeatures[['C3DValues','HMPValues','LBPValues']].copy() # make a copy of the two features\n",
        "\n",
        "TestfeaturesCopy['C3DValues'] = TestfeaturesCopy['C3DValues'].apply(lambda x: np.pad(x,(0,5974),'constant')) # pad the C3D column with zeros to match the shape of the HMP \n",
        "TestfeaturesCopy['LBPValues'] = TestfeaturesCopy['LBPValues'].apply(lambda x: np.pad(x,(0,5953),'constant')) # pad the LBP column with zeros to match the shape of the HMP \n",
        "\n",
        "TestfeaturesCopy['Combined'] = TestfeaturesCopy['C3DValues'] + TestfeaturesCopy['HMPValues'] + TestfeaturesCopy['LBPValues'] # add the three columns together\n",
        "TestfeaturesCopy['Combined'].head()"
      ],
      "execution_count": null,
      "outputs": [
        {
          "output_type": "execute_result",
          "data": {
            "text/plain": [
              "0    [0.19113378, 0.04910071, 0.011124990000000001,...\n",
              "1    [0.08621960000000001, 0.015685360000000002, 0....\n",
              "2    [0.09781052, 0.88311336, 0.00596866, 0.0042213...\n",
              "3    [0.09016724000000001, 0.02484301, 0.25073859, ...\n",
              "4    [0.09106093, 0.01308781, 0.12398021000000001, ...\n",
              "Name: Combined, dtype: object"
            ]
          },
          "metadata": {
            "tags": []
          },
          "execution_count": 79
        }
      ]
    },
    {
      "cell_type": "markdown",
      "metadata": {
        "id": "PIHXbTQZvZDi"
      },
      "source": [
        "## Generate Predictions for Test-set\n"
      ]
    },
    {
      "cell_type": "code",
      "metadata": {
        "id": "CVyVmzw_v6fy"
      },
      "source": [
        "\n",
        "Test_X_train = featuresCopy['Combined'].tolist() # Dev-set 6000\n",
        "Test_X_test  = TestfeaturesCopy['Combined'].tolist() # Test-set 2000\n",
        "Test_Y_train =  groundTruthDF[['short-term_memorability','long-term_memorability']].values # Dev-set 6000\n",
        "Test_Y_test  = []\n"
      ],
      "execution_count": null,
      "outputs": []
    },
    {
      "cell_type": "code",
      "metadata": {
        "colab": {
          "base_uri": "https://localhost:8080/"
        },
        "id": "oqBMO5jC5CKb",
        "outputId": "ef8aadf9-e7c7-4571-f08d-b5ca0d062b4d"
      },
      "source": [
        "model.fit(Test_X_train,Test_Y_train)"
      ],
      "execution_count": null,
      "outputs": [
        {
          "output_type": "stream",
          "text": [
            "[Parallel(n_jobs=1)]: Using backend SequentialBackend with 1 concurrent workers.\n"
          ],
          "name": "stderr"
        },
        {
          "output_type": "stream",
          "text": [
            "building tree 1 of 20\n"
          ],
          "name": "stdout"
        },
        {
          "output_type": "stream",
          "text": [
            "[Parallel(n_jobs=1)]: Done   1 out of   1 | elapsed:   12.8s remaining:    0.0s\n"
          ],
          "name": "stderr"
        },
        {
          "output_type": "stream",
          "text": [
            "building tree 2 of 20\n",
            "building tree 3 of 20\n",
            "building tree 4 of 20\n",
            "building tree 5 of 20\n",
            "building tree 6 of 20\n",
            "building tree 7 of 20\n",
            "building tree 8 of 20\n",
            "building tree 9 of 20\n",
            "building tree 10 of 20\n",
            "building tree 11 of 20\n",
            "building tree 12 of 20\n",
            "building tree 13 of 20\n",
            "building tree 14 of 20\n",
            "building tree 15 of 20\n",
            "building tree 16 of 20\n",
            "building tree 17 of 20\n",
            "building tree 18 of 20\n",
            "building tree 19 of 20\n",
            "building tree 20 of 20\n"
          ],
          "name": "stdout"
        },
        {
          "output_type": "stream",
          "text": [
            "[Parallel(n_jobs=1)]: Done  20 out of  20 | elapsed:  4.2min finished\n"
          ],
          "name": "stderr"
        },
        {
          "output_type": "execute_result",
          "data": {
            "text/plain": [
              "RandomForestRegressor(bootstrap=True, ccp_alpha=0.0, criterion='mse',\n",
              "                      max_depth=10, max_features='auto', max_leaf_nodes=None,\n",
              "                      max_samples=None, min_impurity_decrease=0.0,\n",
              "                      min_impurity_split=None, min_samples_leaf=1,\n",
              "                      min_samples_split=2, min_weight_fraction_leaf=0.0,\n",
              "                      n_estimators=20, n_jobs=None, oob_score=False,\n",
              "                      random_state=50, verbose=2, warm_start=False)"
            ]
          },
          "metadata": {
            "tags": []
          },
          "execution_count": 81
        }
      ]
    },
    {
      "cell_type": "code",
      "metadata": {
        "colab": {
          "base_uri": "https://localhost:8080/"
        },
        "id": "K4kuA1pP50Dp",
        "outputId": "12e3b7da-3d0d-4248-98b9-fa4fcc187c01"
      },
      "source": [
        "Predictions = model.predict(Test_X_test)\n",
        "print(Predictions)"
      ],
      "execution_count": null,
      "outputs": [
        {
          "output_type": "stream",
          "text": [
            "[[0.85743188 0.76046372]\n",
            " [0.86306091 0.79709461]\n",
            " [0.86303327 0.79175308]\n",
            " ...\n",
            " [0.84016385 0.74860854]\n",
            " [0.8097717  0.70696757]\n",
            " [0.86662967 0.78026018]]\n"
          ],
          "name": "stdout"
        },
        {
          "output_type": "stream",
          "text": [
            "[Parallel(n_jobs=1)]: Using backend SequentialBackend with 1 concurrent workers.\n",
            "[Parallel(n_jobs=1)]: Done   1 out of   1 | elapsed:    0.0s remaining:    0.0s\n",
            "[Parallel(n_jobs=1)]: Done  20 out of  20 | elapsed:    0.0s finished\n"
          ],
          "name": "stderr"
        }
      ]
    },
    {
      "cell_type": "code",
      "metadata": {
        "colab": {
          "base_uri": "https://localhost:8080/",
          "height": 204
        },
        "id": "70bP2MLH6S2O",
        "outputId": "36ad6306-59dc-49d5-b1c2-a47d4114b2a2"
      },
      "source": [
        "PredictionsDf = pd.DataFrame(Predictions,columns=['Short Term scores','Long Term scores'])\n",
        "PredictionsDf.head()"
      ],
      "execution_count": null,
      "outputs": [
        {
          "output_type": "execute_result",
          "data": {
            "text/html": [
              "<div>\n",
              "<style scoped>\n",
              "    .dataframe tbody tr th:only-of-type {\n",
              "        vertical-align: middle;\n",
              "    }\n",
              "\n",
              "    .dataframe tbody tr th {\n",
              "        vertical-align: top;\n",
              "    }\n",
              "\n",
              "    .dataframe thead th {\n",
              "        text-align: right;\n",
              "    }\n",
              "</style>\n",
              "<table border=\"1\" class=\"dataframe\">\n",
              "  <thead>\n",
              "    <tr style=\"text-align: right;\">\n",
              "      <th></th>\n",
              "      <th>Short Term scores</th>\n",
              "      <th>Long Term scores</th>\n",
              "    </tr>\n",
              "  </thead>\n",
              "  <tbody>\n",
              "    <tr>\n",
              "      <th>0</th>\n",
              "      <td>0.857432</td>\n",
              "      <td>0.760464</td>\n",
              "    </tr>\n",
              "    <tr>\n",
              "      <th>1</th>\n",
              "      <td>0.863061</td>\n",
              "      <td>0.797095</td>\n",
              "    </tr>\n",
              "    <tr>\n",
              "      <th>2</th>\n",
              "      <td>0.863033</td>\n",
              "      <td>0.791753</td>\n",
              "    </tr>\n",
              "    <tr>\n",
              "      <th>3</th>\n",
              "      <td>0.855796</td>\n",
              "      <td>0.785355</td>\n",
              "    </tr>\n",
              "    <tr>\n",
              "      <th>4</th>\n",
              "      <td>0.861224</td>\n",
              "      <td>0.759943</td>\n",
              "    </tr>\n",
              "  </tbody>\n",
              "</table>\n",
              "</div>"
            ],
            "text/plain": [
              "   Short Term scores  Long Term scores\n",
              "0           0.857432          0.760464\n",
              "1           0.863061          0.797095\n",
              "2           0.863033          0.791753\n",
              "3           0.855796          0.785355\n",
              "4           0.861224          0.759943"
            ]
          },
          "metadata": {
            "tags": []
          },
          "execution_count": 85
        }
      ]
    },
    {
      "cell_type": "code",
      "metadata": {
        "id": "50UWPdVo9t-9"
      },
      "source": [
        "TestGroundTruthDF['short-term_memorability'] = PredictionsDf['Short Term scores']\n",
        "TestGroundTruthDF['long-term_memorability'] = PredictionsDf['Long Term scores']"
      ],
      "execution_count": null,
      "outputs": []
    },
    {
      "cell_type": "code",
      "metadata": {
        "colab": {
          "base_uri": "https://localhost:8080/",
          "height": 204
        },
        "id": "YcMcmixA-PzG",
        "outputId": "fc7eb9e0-7e30-427b-ff0f-f61c3826f352"
      },
      "source": [
        "TestGroundTruthDF.head()"
      ],
      "execution_count": null,
      "outputs": [
        {
          "output_type": "execute_result",
          "data": {
            "text/html": [
              "<div>\n",
              "<style scoped>\n",
              "    .dataframe tbody tr th:only-of-type {\n",
              "        vertical-align: middle;\n",
              "    }\n",
              "\n",
              "    .dataframe tbody tr th {\n",
              "        vertical-align: top;\n",
              "    }\n",
              "\n",
              "    .dataframe thead th {\n",
              "        text-align: right;\n",
              "    }\n",
              "</style>\n",
              "<table border=\"1\" class=\"dataframe\">\n",
              "  <thead>\n",
              "    <tr style=\"text-align: right;\">\n",
              "      <th></th>\n",
              "      <th>video</th>\n",
              "      <th>short-term_memorability</th>\n",
              "      <th>nb_short-term_annotations</th>\n",
              "      <th>long-term_memorability</th>\n",
              "      <th>nb_long-term_annotations</th>\n",
              "    </tr>\n",
              "  </thead>\n",
              "  <tbody>\n",
              "    <tr>\n",
              "      <th>0</th>\n",
              "      <td>7494</td>\n",
              "      <td>0.857432</td>\n",
              "      <td>33</td>\n",
              "      <td>0.760464</td>\n",
              "      <td>12</td>\n",
              "    </tr>\n",
              "    <tr>\n",
              "      <th>1</th>\n",
              "      <td>7495</td>\n",
              "      <td>0.863061</td>\n",
              "      <td>34</td>\n",
              "      <td>0.797095</td>\n",
              "      <td>10</td>\n",
              "    </tr>\n",
              "    <tr>\n",
              "      <th>2</th>\n",
              "      <td>7496</td>\n",
              "      <td>0.863033</td>\n",
              "      <td>32</td>\n",
              "      <td>0.791753</td>\n",
              "      <td>13</td>\n",
              "    </tr>\n",
              "    <tr>\n",
              "      <th>3</th>\n",
              "      <td>7497</td>\n",
              "      <td>0.855796</td>\n",
              "      <td>33</td>\n",
              "      <td>0.785355</td>\n",
              "      <td>10</td>\n",
              "    </tr>\n",
              "    <tr>\n",
              "      <th>4</th>\n",
              "      <td>7498</td>\n",
              "      <td>0.861224</td>\n",
              "      <td>33</td>\n",
              "      <td>0.759943</td>\n",
              "      <td>10</td>\n",
              "    </tr>\n",
              "  </tbody>\n",
              "</table>\n",
              "</div>"
            ],
            "text/plain": [
              "   video  ...  nb_long-term_annotations\n",
              "0   7494  ...                        12\n",
              "1   7495  ...                        10\n",
              "2   7496  ...                        13\n",
              "3   7497  ...                        10\n",
              "4   7498  ...                        10\n",
              "\n",
              "[5 rows x 5 columns]"
            ]
          },
          "metadata": {
            "tags": []
          },
          "execution_count": 94
        }
      ]
    },
    {
      "cell_type": "code",
      "metadata": {
        "id": "ASL4NIKr_34O"
      },
      "source": [
        "TestGroundTruthDF.to_csv('/content/drive/My Drive/Matthew_Nolan_16425716_predictions.csv')"
      ],
      "execution_count": null,
      "outputs": []
    }
  ]
}