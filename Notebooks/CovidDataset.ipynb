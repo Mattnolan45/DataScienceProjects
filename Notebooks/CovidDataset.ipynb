{
 "cells": [
  {
   "cell_type": "code",
   "execution_count": 2,
   "metadata": {},
   "outputs": [
    {
     "name": "stdout",
     "output_type": "stream",
     "text": [
      "      dateRep   day  month    year  cases  deaths countriesAndTerritories  \\\n",
      "0         NaN   NaN    NaN     NaN    NaN     NaN                     NaN   \n",
      "1  14/12/2020  14.0   12.0  2020.0  746.0     6.0             Afghanistan   \n",
      "2         NaN   NaN    NaN     NaN    NaN     NaN                     NaN   \n",
      "3  13/12/2020  13.0   12.0  2020.0  298.0     9.0             Afghanistan   \n",
      "4         NaN   NaN    NaN     NaN    NaN     NaN                     NaN   \n",
      "\n",
      "  geoId countryterritoryCode popData2019 continentExp  \\\n",
      "0   NaN                  NaN         NaN          NaN   \n",
      "1    AF                  AFG    38041757         Asia   \n",
      "2   NaN                  NaN         NaN          NaN   \n",
      "3    AF                  AFG    38041757         Asia   \n",
      "4   NaN                  NaN         NaN          NaN   \n",
      "\n",
      "  Cumulative_number_for_14_days_of_COVID-19_cases_per_100000  Unnamed: 12  \n",
      "0                                                NaN                  NaN  \n",
      "1                                         9.01377925                  NaN  \n",
      "2                                                NaN                  NaN  \n",
      "3                                         7.05277624                  NaN  \n",
      "4                                                NaN                  NaN  \n"
     ]
    },
    {
     "name": "stderr",
     "output_type": "stream",
     "text": [
      "c:\\users\\matth\\appdata\\local\\programs\\python\\python38\\lib\\site-packages\\IPython\\core\\interactiveshell.py:3057: DtypeWarning: Columns (9,11) have mixed types. Specify dtype option on import or set low_memory=False.\n",
      "  has_raised = await self.run_ast_nodes(code_ast.body, cell_name,\n"
     ]
    }
   ],
   "source": [
    "import pandas as pd\n",
    "data = pd.read_csv('CovidDataset.csv')\n",
    "\n",
    "print(data.head())"
   ]
  },
  {
   "cell_type": "code",
   "execution_count": 18,
   "metadata": {},
   "outputs": [
    {
     "name": "stdout",
     "output_type": "stream",
     "text": [
      "          dateRep   day  month    year  cases  deaths countriesAndTerritories  \\\n",
      "56271  14/12/2020  14.0   12.0  2020.0  429.0     1.0                 Ireland   \n",
      "56273  13/12/2020  13.0   12.0  2020.0  249.0     3.0                 Ireland   \n",
      "56275  12/12/2020  12.0   12.0  2020.0  304.0     3.0                 Ireland   \n",
      "56277  11/12/2020  11.0   12.0  2020.0  303.0    15.0                 Ireland   \n",
      "56279  10/12/2020  10.0   12.0  2020.0  218.0     5.0                 Ireland   \n",
      "\n",
      "      geoId countryterritoryCode popData2019 continentExp  \\\n",
      "56271    IE                  IRL     4904240       Europe   \n",
      "56273    IE                  IRL     4904240       Europe   \n",
      "56275    IE                  IRL     4904240       Europe   \n",
      "56277    IE                  IRL     4904240       Europe   \n",
      "56279    IE                  IRL     4904240       Europe   \n",
      "\n",
      "      Cumulative_number_for_14_days_of_COVID-19_cases_per_100000  Unnamed: 12  \n",
      "56271                                        80.42020782                  NaN  \n",
      "56273                                        77.76944032                  NaN  \n",
      "56275                                        77.64709721                  NaN  \n",
      "56277                                         75.6284358                  NaN  \n",
      "56279                                        75.70999788                  NaN  \n"
     ]
    }
   ],
   "source": [
    "df = data.loc[data['countriesAndTerritories'] == 'Ireland']\n",
    "print(df.head())   "
   ]
  },
  {
   "cell_type": "code",
   "execution_count": 19,
   "metadata": {},
   "outputs": [],
   "source": [
    "del df[\"year\"]"
   ]
  },
  {
   "cell_type": "code",
   "execution_count": 20,
   "metadata": {},
   "outputs": [],
   "source": [
    "del df[\"month\"]\n",
    "del df[\"geoId\"]\n",
    "del df[\"countryterritoryCode\"]\n",
    "del df[\"continentExp\"]"
   ]
  },
  {
   "cell_type": "code",
   "execution_count": 21,
   "metadata": {},
   "outputs": [
    {
     "name": "stdout",
     "output_type": "stream",
     "text": [
      "          dateRep   day  cases  deaths countriesAndTerritories popData2019  \\\n",
      "56271  14/12/2020  14.0  429.0     1.0                 Ireland     4904240   \n",
      "56273  13/12/2020  13.0  249.0     3.0                 Ireland     4904240   \n",
      "56275  12/12/2020  12.0  304.0     3.0                 Ireland     4904240   \n",
      "56277  11/12/2020  11.0  303.0    15.0                 Ireland     4904240   \n",
      "56279  10/12/2020  10.0  218.0     5.0                 Ireland     4904240   \n",
      "\n",
      "      Cumulative_number_for_14_days_of_COVID-19_cases_per_100000  Unnamed: 12  \n",
      "56271                                        80.42020782                  NaN  \n",
      "56273                                        77.76944032                  NaN  \n",
      "56275                                        77.64709721                  NaN  \n",
      "56277                                         75.6284358                  NaN  \n",
      "56279                                        75.70999788                  NaN  \n"
     ]
    }
   ],
   "source": [
    "print(df.head())"
   ]
  },
  {
   "cell_type": "code",
   "execution_count": 22,
   "metadata": {},
   "outputs": [],
   "source": [
    "del df[\"Cumulative_number_for_14_days_of_COVID-19_cases_per_100000\"]"
   ]
  },
  {
   "cell_type": "code",
   "execution_count": 23,
   "metadata": {},
   "outputs": [],
   "source": [
    "del df[\"popData2019\"]"
   ]
  },
  {
   "cell_type": "code",
   "execution_count": 29,
   "metadata": {},
   "outputs": [
    {
     "name": "stdout",
     "output_type": "stream",
     "text": [
      "          dateRep   day  cases  deaths\n",
      "56271  14/12/2020  14.0  429.0     1.0\n",
      "56273  13/12/2020  13.0  249.0     3.0\n",
      "56275  12/12/2020  12.0  304.0     3.0\n",
      "56277  11/12/2020  11.0  303.0    15.0\n",
      "56279  10/12/2020  10.0  218.0     5.0\n"
     ]
    }
   ],
   "source": [
    "print(df.head())"
   ]
  },
  {
   "cell_type": "code",
   "execution_count": 25,
   "metadata": {},
   "outputs": [],
   "source": [
    "del df[\"countriesAndTerritories\"]"
   ]
  },
  {
   "cell_type": "code",
   "execution_count": 28,
   "metadata": {},
   "outputs": [],
   "source": [
    "del df[\"Unnamed: 12\"]"
   ]
  },
  {
   "cell_type": "code",
   "execution_count": 31,
   "metadata": {},
   "outputs": [],
   "source": [
    "df.to_csv(r\"D:\\IrelandDataCleaned.csv\")"
   ]
  },
  {
   "cell_type": "code",
   "execution_count": 3,
   "metadata": {},
   "outputs": [
    {
     "name": "stdout",
     "output_type": "stream",
     "text": [
      "        dateRep   day  month    year  cases  deaths countriesAndTerritories  \\\n",
      "681  14/12/2020  14.0   12.0  2020.0  788.0    14.0                 Albania   \n",
      "683  13/12/2020  13.0   12.0  2020.0  879.0    12.0                 Albania   \n",
      "685  12/12/2020  12.0   12.0  2020.0  802.0    12.0                 Albania   \n",
      "687  11/12/2020  11.0   12.0  2020.0  873.0    14.0                 Albania   \n",
      "689  10/12/2020  10.0   12.0  2020.0  752.0    15.0                 Albania   \n",
      "\n",
      "    geoId countryterritoryCode popData2019 continentExp  \\\n",
      "681    AL                  ALB     2862427       Europe   \n",
      "683    AL                  ALB     2862427       Europe   \n",
      "685    AL                  ALB     2862427       Europe   \n",
      "687    AL                  ALB     2862427       Europe   \n",
      "689    AL                  ALB     2862427       Europe   \n",
      "\n",
      "    Cumulative_number_for_14_days_of_COVID-19_cases_per_100000  Unnamed: 12  \n",
      "681                                        380.9704143                  NaN  \n",
      "683                                        382.6123775                  NaN  \n",
      "685                                        370.9439577                  NaN  \n",
      "687                                        365.4591017                  NaN  \n",
      "689                                        357.8781223                  NaN  \n"
     ]
    }
   ],
   "source": [
    "EU = data.loc[data['continentExp'] == 'Europe']\n",
    "print(EU.head())"
   ]
  },
  {
   "cell_type": "code",
   "execution_count": 4,
   "metadata": {},
   "outputs": [],
   "source": [
    "del EU[\"Unnamed: 12\"]"
   ]
  },
  {
   "cell_type": "code",
   "execution_count": 8,
   "metadata": {},
   "outputs": [
    {
     "name": "stdout",
     "output_type": "stream",
     "text": [
      "        dateRep   day  month    year  cases  deaths countriesAndTerritories  \\\n",
      "681  14/12/2020  14.0   12.0  2020.0  788.0    14.0                 Albania   \n",
      "683  13/12/2020  13.0   12.0  2020.0  879.0    12.0                 Albania   \n",
      "685  12/12/2020  12.0   12.0  2020.0  802.0    12.0                 Albania   \n",
      "687  11/12/2020  11.0   12.0  2020.0  873.0    14.0                 Albania   \n",
      "689  10/12/2020  10.0   12.0  2020.0  752.0    15.0                 Albania   \n",
      "\n",
      "    countryterritoryCode popData2019 continentExp  \\\n",
      "681                  ALB     2862427       Europe   \n",
      "683                  ALB     2862427       Europe   \n",
      "685                  ALB     2862427       Europe   \n",
      "687                  ALB     2862427       Europe   \n",
      "689                  ALB     2862427       Europe   \n",
      "\n",
      "    Cumulative_number_for_14_days_of_COVID-19_cases_per_100000  \n",
      "681                                        380.9704143          \n",
      "683                                        382.6123775          \n",
      "685                                        370.9439577          \n",
      "687                                        365.4591017          \n",
      "689                                        357.8781223          \n"
     ]
    }
   ],
   "source": [
    "print(EU.head())"
   ]
  },
  {
   "cell_type": "code",
   "execution_count": 7,
   "metadata": {},
   "outputs": [],
   "source": [
    "del EU[\"geoId\"]"
   ]
  },
  {
   "cell_type": "code",
   "execution_count": 9,
   "metadata": {},
   "outputs": [],
   "source": [
    "EU.to_csv(\"D:\\MastersStuff\\CA682 - Data Visualisation and Management\\EU.csv\")"
   ]
  },
  {
   "cell_type": "code",
   "execution_count": null,
   "metadata": {},
   "outputs": [],
   "source": []
  }
 ],
 "metadata": {
  "kernelspec": {
   "display_name": "Python 3",
   "language": "python",
   "name": "python3"
  },
  "language_info": {
   "codemirror_mode": {
    "name": "ipython",
    "version": 3
   },
   "file_extension": ".py",
   "mimetype": "text/x-python",
   "name": "python",
   "nbconvert_exporter": "python",
   "pygments_lexer": "ipython3",
   "version": "3.8.0"
  }
 },
 "nbformat": 4,
 "nbformat_minor": 2
}
